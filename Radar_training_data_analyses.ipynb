{
 "cells": [
  {
   "cell_type": "markdown",
   "metadata": {},
   "source": [
    "# Radar training data analyses.ipynb\n",
    "\n",
    "(Include description of code here!)\n",
    "\n",
    "By Sharon Jones, September 2017, Python v3, DEA v1.5.2, Radar data from `simoncube`\n",
    "\n",
    "Modified after `Check_for_statistical_difference_in_slope.ipynb` in Geoscience Australia's `GWBAGDC` Git repo. \n",
    "\n",
    "** Code dependencies **\n",
    "- training data shape files for different land cover types (derived from ArcGIS over the TC Debbie landfall region). The code will look for the training datasets in `/g/data1/w85/training_shapefiles/`. Ensure that al of the training shapefiles are executable."
   ]
  },
  {
   "cell_type": "markdown",
   "metadata": {},
   "source": [
    "## Imports and functions"
   ]
  },
  {
   "cell_type": "code",
   "execution_count": null,
   "metadata": {
    "collapsed": true
   },
   "outputs": [],
   "source": [
    "# Import the libraries we need in the code and tell matplotlib to display the plots here\n",
    "%matplotlib inline\n",
    "import fiona\n",
    "import shapely.geometry\n",
    "import rasterio\n",
    "import rasterio.features\n",
    "import geopandas as gp\n",
    "import datacube\n",
    "import numpy as np\n",
    "import matplotlib.pyplot as plt\n",
    "import xarray as xr\n",
    "import scipy.stats\n",
    "import pandas\n",
    "import pickle\n",
    "import csv\n",
    "import os"
   ]
  },
  {
   "cell_type": "code",
   "execution_count": null,
   "metadata": {
    "collapsed": true
   },
   "outputs": [],
   "source": [
    "# Set up some functions to use later in the code\n",
    "def warp_geometry(geom, src_crs, dst_crs):\n",
    "    \"\"\"\n",
    "    warp geometry from src_crs to dst_crs\n",
    "    \"\"\"\n",
    "    return shapely.geometry.shape(rasterio.warp.transform_geom(src_crs, dst_crs, shapely.geometry.mapping(geom)))\n",
    "\n",
    "def geometry_mask(geom, geobox, all_touched=False, invert=False):\n",
    "    \"\"\"\n",
    "    rasterize geometry into a binary mask where pixels that overlap geometry are False\n",
    "    \"\"\"\n",
    "    return rasterio.features.geometry_mask([geom],\n",
    "                                           out_shape=geobox.shape,\n",
    "                                           transform=geobox.affine,\n",
    "                                           all_touched=all_touched,\n",
    "                                           invert=invert)"
   ]
  },
  {
   "cell_type": "markdown",
   "metadata": {},
   "source": [
    "## Define the extent of the radar files"
   ]
  },
  {
   "cell_type": "code",
   "execution_count": null,
   "metadata": {
    "collapsed": true
   },
   "outputs": [],
   "source": [
    "cache = '/g/data/u46/users/sj9724/xarray.pickle.debbie'\n",
    "\n",
    "\n",
    "# lon = 149.71, 147.83\n",
    "# lat = -21.155, -19.72 # call for whole Debbie area\n",
    "\n",
    "lon = 148.68, 148.21\n",
    "lat = -20.30, -20.12 # call for partial Debbie area\n",
    "\n",
    "# time = '2016-11-01', '2016-12-30' # *see alt time slice cell below"
   ]
  },
  {
   "cell_type": "markdown",
   "metadata": {},
   "source": [
    "## Read in the training data shapefile and create a mask from it. \n",
    "This code reads in the shapefile and identifies and lists all of the polygons witin it."
   ]
  },
  {
   "cell_type": "code",
   "execution_count": null,
   "metadata": {
    "scrolled": true
   },
   "outputs": [],
   "source": [
    "shp = gp.GeoDataFrame.from_file('/g/data/w85/radar_grad/training_shapefiles_sj/crop_areas.shp')\n",
    "training_type = 'crops'\n",
    "print (shp.head)"
   ]
  },
  {
   "cell_type": "markdown",
   "metadata": {},
   "source": [
    "This section filters our polygons, to find only those that are within the bounding box we specified above. It then combines all the relevant polygons into a single polygon that we can use to create our mask."
   ]
  },
  {
   "cell_type": "code",
   "execution_count": null,
   "metadata": {
    "collapsed": true
   },
   "outputs": [],
   "source": [
    "# Create a bounding box from the locations specified above\n",
    "box = shapely.geometry.box(lon[1], lat[1], lon[0], lat[0], ccw = True)\n",
    "# Only get the polygons that intersect the bounding box (i.e. remove all the irrelevant ones)\n",
    "filtered = shp.where(shp.intersects(box)).dropna()\n",
    "# Combine all of the relevant polygons into a single polygon\n",
    "shp_union = shapely.ops.unary_union(filtered.geometry)"
   ]
  },
  {
   "cell_type": "markdown",
   "metadata": {},
   "source": [
    "## Read in the data we want to apply the mask to"
   ]
  },
  {
   "cell_type": "code",
   "execution_count": null,
   "metadata": {
    "collapsed": true
   },
   "outputs": [],
   "source": [
    "dc = datacube.Datacube(config='/g/data/u46/users/brl654/datacube/simoncube.conf')"
   ]
  },
  {
   "cell_type": "code",
   "execution_count": null,
   "metadata": {
    "collapsed": true
   },
   "outputs": [],
   "source": [
    "try:\n",
    "     with open(cache, 'rb') as file:\n",
    "         z = pickle.load(file) # this only takes tens of seconds. (6GB)\n",
    "except:\n",
    "    #this may be 5 to 10 mintues (seeking through half a terabyte)\n",
    "    z = dc.load(product='s1_gamma0_scene', lat=lat, lon=lon, output_crs='epsg:3577', resolution=(-25,25))#, time = time)\n",
    "    with open(cache, 'wb') as file:\n",
    "        pickle.dump(z, file, protocol=-1) # save result to disk"
   ]
  },
  {
   "cell_type": "code",
   "execution_count": null,
   "metadata": {},
   "outputs": [],
   "source": [
    "z"
   ]
  },
  {
   "cell_type": "code",
   "execution_count": null,
   "metadata": {},
   "outputs": [],
   "source": [
    "z.time"
   ]
  },
  {
   "cell_type": "code",
   "execution_count": null,
   "metadata": {},
   "outputs": [],
   "source": [
    "z.vh.mean(dim = 'time')[::10,::10].plot(cmap='inferno', vmax = 0.1)"
   ]
  },
  {
   "cell_type": "code",
   "execution_count": null,
   "metadata": {
    "collapsed": true
   },
   "outputs": [],
   "source": [
    "from osgeo.osr import SpatialReference\n",
    "# Get the WKT for EPSG:3577 (AGDC projection) \n",
    "spatial_ref_object = SpatialReference()\n",
    "spatial_ref_object.ImportFromEPSG(3577)\n",
    "spatial_ref = spatial_ref_object.ExportToWkt()"
   ]
  },
  {
   "cell_type": "code",
   "execution_count": null,
   "metadata": {},
   "outputs": [],
   "source": [
    "# Create the mask based on our shapefile\n",
    "mask = geometry_mask(warp_geometry(shp_union, shp.crs, spatial_ref), z.geobox, invert=True)\n",
    "# Get data only where the mask is 'true'\n",
    "data_masked = z.where(mask)\n",
    "print(data_masked)"
   ]
  },
  {
   "cell_type": "code",
   "execution_count": null,
   "metadata": {},
   "outputs": [],
   "source": [
    "# Plot the masked dataset\n",
    "data_masked.mean('time').vh.plot()"
   ]
  },
  {
   "cell_type": "code",
   "execution_count": null,
   "metadata": {},
   "outputs": [],
   "source": [
    "data_masked_mean = data_masked.mean('time')\n",
    "data_masked_mean"
   ]
  },
  {
   "cell_type": "code",
   "execution_count": null,
   "metadata": {
    "collapsed": true
   },
   "outputs": [],
   "source": [
    "outfile = '/g/data/u46/users/sj9724/xarray.pickle.debbie_' + str(lat[0]) + '_' + str(lat[1]) + '_' + str(lon[0]) + '_' + str(lon[1]) + '.' + training_type\n",
    "with open(outfile, 'wb') as file:\n",
    "     pickle.dump(data_masked_mean, file, protocol=-1) # save result to disk"
   ]
  },
  {
   "cell_type": "markdown",
   "metadata": {},
   "source": [
    "## Lets plot a histogram of the data that has come back from the mask"
   ]
  },
  {
   "cell_type": "code",
   "execution_count": null,
   "metadata": {},
   "outputs": [],
   "source": [
    "minval = 0.001\n",
    "maxval = data_masked.vh.max()\n",
    "bin_values = np.arange(start = minval, stop = maxval, step = 0.001)\n",
    "data_masked.vh.plot.hist(bins = bin_values)"
   ]
  }
 ],
 "metadata": {
  "anaconda-cloud": {},
  "kernelspec": {
   "display_name": "Python 3",
   "language": "python",
   "name": "python3"
  },
  "language_info": {
   "codemirror_mode": {
    "name": "ipython",
    "version": 3
   },
   "file_extension": ".py",
   "mimetype": "text/x-python",
   "name": "python",
   "nbconvert_exporter": "python",
   "pygments_lexer": "ipython3",
   "version": "3.6.2"
  }
 },
 "nbformat": 4,
 "nbformat_minor": 1
}
