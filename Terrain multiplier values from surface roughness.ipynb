{
 "cells": [
  {
   "cell_type": "markdown",
   "metadata": {},
   "source": [
    "# Terrain multiplier values from surface roughness\n",
    "\n",
    "The local variation of wind speed across the landscape is affected by the aerodynamic roughness of the surface upwind of the site, the local topography and the shielding afforded by upwind structures. For the purposes of the Australian/New Zealand Standard *AS/NZS 1170.2 -- Structural design actions Part 2: wind actions*, the effects of surface roughness are encapsulated in the terrain/height multiplier $M_{z,cat}$. AS/NZS 1170.2:2011 defines four terrain categories that give a broad description of the cover::\n",
    "\n",
    "1. *Category 1* -- Exposed open terrain with few or no obstructions and water surfaces at servicability wind speeds.\n",
    "2. *Category 2* -- Water surfaces, open terrain, grassland with few, well scattered obstructions having heights generally from 1.5 to 10 m.\n",
    "3. *Category 3* -- Terrain with numerous closely spaced obstructions 3 m to 5 m high, such as areas of suburban housing. \n",
    "4. *Category 4* -- Terrain with numerous large, high (10 m to 30 m high) and closely spaced obstructions, such as larfe city centres and well-developed industrial complexes.\n",
    "\n",
    "The Standard provides a table of $M_{z,cat}$ values for fully developed [boundary layer] profiles and indicates that for intermediate values of height and terrain category, linear interpolation can be used. "
   ]
  },
  {
   "cell_type": "markdown",
   "metadata": {},
   "source": [
    "| Height (z)          | Terrain category 1 | Terrain category 2 | Terrain category 3 | Terrain category 4 |\n",
    "| ------------------- | ------------------ | ------------------ | ------------------ | ------------------ |\n",
    "| $\\le$ 3             | 0.99               | 0.91               | 0.83               | 0.75               |\n",
    "| 5                   | 1.05               | 0.91               | 0.83               | 0.75               |\n",
    "| 10                  | 1.12               | 1.00               | 0.83               | 0.75               |\n",
    "| 15                  | 1.16               | 1.05               | 0.89               | 0.75               |\n",
    "| 20                  | 1.19               | 1.08               | 0.94               | 0.75               |\n",
    "| 30                  | 1.22               | 1.12               | 1.00               | 0.80               |\n",
    "| 40                  | 1.24               | 1.16               | 1.04               | 0.85               |\n",
    "| 50                  | 1.25               | 1.18               | 1.07               | 0.90               |\n",
    "| 75                  | 1.27               | 1.22               | 1.12               | 0.98               |\n",
    "| 100                 | 1.29               | 1.24               | 1.16               | 1.03               |\n",
    "| 150                 | 1.31               | 1.27               | 1.21               | 1.11               |\n",
    "| 200                 | 1.32               | 1.29               | 1.24               | 1.16               |\n",
    "\n",
    "Terrain/height multiplier for gust wind speeds in fully developed terrrains -- Serviceability Limit State design -- all regions and Ultimate Limit State -- Regions A1 to A7, W and B."
   ]
  },
  {
   "cell_type": "markdown",
   "metadata": {},
   "source": [
    "|    Height (z)      | Terrain categories 1 and 2 | Terrain categories 3 and 4 |\n",
    "| :----------------: | :------------------------: | :------------------------: |\n",
    "|      $\\le$ 3       |            0.90            |            0.80            |\n",
    "|         5          |            0.95            |            0.80            |\n",
    "|         10         |            1.00            |            0.89            |\n",
    "|         15         |            1.07            |            0.95            |\n",
    "|         20         |            1.13            |            1.05            |\n",
    "|         30         |            1.20            |            1.15            |\n",
    "|         40         |            1.25            |            1.25            |\n",
    "|         50         |            1.29            |            1.29            |\n",
    "|         75         |            1.35            |            1.35            |\n",
    "|      $\\ge$ 100     |            1.40            |            1.40            |\n",
    "Terrain/height multiplier for gust wind speeds in fully developed terrains -- Ultimate Limit State Design -- Regions C and D only."
   ]
  },
  {
   "cell_type": "markdown",
   "metadata": {},
   "source": [
    "Table 4.2(B) in AS 1170.2:2011 provides indicative roughness lengths for the four terrain categories:\n",
    "\n",
    "| Terrain category | Roughness length (m) |\n",
    "| :--------------: | :------------------: |\n",
    "|        1         |        0.002         |\n",
    "|        2         |         0.02         |\n",
    "|        3         |         0.2          |\n",
    "|        4         |         2.0          |\n",
    "\n",
    "\n",
    "Additional detail is provided in AS/NZS 1171.2 Supplement 1, which defines roughness lengths for some typical terrain classes. The Supplement also defines a relationship between the roughness length and the terrain category:\n",
    "\n",
    "$z_0 = 2 \\times 10^{terrain\\_category - 4}$\n",
    "\n",
    "\n",
    "\n",
    "|                 Terrain class                 |  Terrain roughness length ($z_0$, m)   | Terrain category |\n",
    "| :-------------------------------------------: | :------------------------------------: | :--------------: |\n",
    "|                City buildings                 |                   2                    |       4.00       |\n",
    "|                    Forest                     |                   1                    |       3.70       |\n",
    "|      High density (industrial) buildings      |                  0.8                   |       3.60       |\n",
    "|              Small town centres               |                  0.4                   |       3.30       |\n",
    "|            Suburban/wooded country            |                  0.2                   |       3.00       |\n",
    "|             Orchard, open forest              |                  0.08                  |       2.60       |\n",
    "|           Long grass with few trees           |                  0.06                  |       2.48       |\n",
    "|                     Crops                     |                  0.04                  |       2.30       |\n",
    "| Open rough water, airfields, uncut grass, etc |                  0.02                  |       2.00       |\n",
    "|                   Cut grass                   |                 0.008                  |       1.60       |\n",
    "|            Desert (stones), roads             |                 0.006                  |       1.48       |\n",
    "|    Mudflats/salt evaporators/sandy beaches    |                 0.004                  |       1.30       |\n",
    "|                 Snow surface                  |                 0.002                  |       1.00       |\n"
   ]
  },
  {
   "cell_type": "markdown",
   "metadata": {},
   "source": [
    "Armed with this, we aim to develop a relationship between roughness length and the $Mz,cat$ values for the different regions. "
   ]
  },
  {
   "cell_type": "code",
   "execution_count": 1,
   "metadata": {
    "collapsed": true
   },
   "outputs": [],
   "source": [
    "%matplotlib inline\n",
    "\n",
    "import numpy as np\n",
    "from scipy import optimize, interpolate\n",
    "import matplotlib.pyplot as plt\n",
    "\n",
    "import seaborn as sns\n",
    "sns.set_context(\"poster\")\n",
    "from ipywidgets import interact, interactive, fixed, interact_manual\n",
    "import ipywidgets as widgets\n",
    "from IPython.display import display"
   ]
  },
  {
   "cell_type": "markdown",
   "metadata": {},
   "source": [
    "Let us begin with the relationship between terrain category and roughness length. It's a simple log-linear relationship, so should be easy to link the two."
   ]
  },
  {
   "cell_type": "code",
   "execution_count": 2,
   "metadata": {},
   "outputs": [],
   "source": [
    "z0 = np.array([2., 1., 0.8, 0.4, 0.2, 0.08, 0.06, 0.04, 0.02, 0.008, 0.006, 0.004, 0.002])\n",
    "cat = np.array([4., 3.7, 3.6, 3.3, 3.0, 2.6, 2.48, 2.30, 2.0, 1.6, 1.48, 1.30, 1.0])\n",
    "\n",
    "\n",
    "def func(z0, a, b):\n",
    "    return a + b * np.log(z0)\n",
    "\n",
    "ax = sns.regplot(z0, cat, fit_reg=True, logx=True)\n",
    "zopt, zcov = optimize.curve_fit(func, z0, cat)\n",
    "label = \"T = {0:.5f} + {1:.5f} * log($z_0$)\".format(*zopt)\n",
    "plt.plot(z0, func(z0, *zopt), 'r-', label=label)\n",
    "\n",
    "plt.plot(z0, np.log10(z0/2.)+4., 'k--', lw=0.5, label=\"AS/NZS 1170.2 Supp 1\")\n",
    "\n",
    "ax.set_xlim(0.001, 2.5)\n",
    "ax.set_ylim(0.5, 5)\n",
    "ax.set_xscale(\"log\")\n",
    "ax.set_xlabel(\"Roughness length ($z_0$)\")\n",
    "ax.set_ylabel(\"Terrain category\")\n",
    "ax.legend()\n"
   ]
  },
  {
   "cell_type": "markdown",
   "metadata": {},
   "source": [
    "Now we have a function that relates roughness length to terrain category. It's log-linear in $z_0$, and (helpfully) matches that published in the Supplement to AS/NZS 1170.2:2011. The only difference between the one derived here and that in the Supplement is that I've taken the natural logarithm of $z_0$, the Supplement takes the base-10 logarithm.\n",
    "\n",
    "Next, we need to build a relationship between the terrain categories and the terrain multiplier value $M_{z,cat}$. We'll start with the easier (and probably more common) case of the Serviceability Limit State conditions.\n",
    "\n",
    "Since there are many different heights to select from, I start by creating a dict of the values, with keys as heights and values an array of the corresponding $M_{z,cat}$ values for the four terrain categories."
   ]
  },
  {
   "cell_type": "code",
   "execution_count": 3,
   "metadata": {
    "collapsed": true
   },
   "outputs": [],
   "source": [
    "mz_val = {3: np.array([0.99, 0.91, 0.83, 0.75]),\n",
    "          5: np.array([1.05, 0.91, 0.83, 0.75]), \n",
    "          10: np.array([1.12, 1.00, 0.83, 0.75]), \n",
    "          15: np.array([1.16, 1.05, 0.89, 0.75]), \n",
    "          20: np.array([1.19, 1.08, 0.94, 0.75]), \n",
    "          30: np.array([1.22, 1.12, 1.00, 0.80]), \n",
    "          40: np.array([1.24, 1.16, 1.04, 0.85]), \n",
    "          50: np.array([1.25, 1.18, 1.07, 0.90]), \n",
    "          75: np.array([1.27, 1.22, 1.12, 0.98]), \n",
    "          100: np.array([1.29, 1.24, 1.16, 1.03]), \n",
    "          150: np.array([1.31, 1.27, 1.21, 1.11]), \n",
    "          200: np.array([1.32, 1.29, 1.24, 1.16])}\n",
    "\n",
    "mz_cat = np.array([1., 2., 3., 4.])"
   ]
  },
  {
   "cell_type": "markdown",
   "metadata": {},
   "source": [
    "Now generate a plot of these, fitted against terrain category. \n",
    "\n",
    "First step is to create a suitable colormap so we can separate the plots."
   ]
  },
  {
   "cell_type": "code",
   "execution_count": 4,
   "metadata": {
    "collapsed": true
   },
   "outputs": [],
   "source": [
    "cmap = sns.husl_palette(12)"
   ]
  },
  {
   "cell_type": "code",
   "execution_count": 5,
   "metadata": {},
   "outputs": [],
   "source": [
    "fig, ax = plt.subplots(1, 1)\n",
    "n = 0\n",
    "for key, val in mz_val.iteritems():\n",
    "    sns.regplot(mz_cat, val, label=\"{0}\".format(key), ax=ax, color=cmap[n], ci=None)\n",
    "    n += 1\n",
    "    \n",
    "ax.set_xlabel(\"Terrain category\")\n",
    "ax.set_ylabel(r\"$M_{z,cat}$\")\n",
    "ax.legend(title=\"Height\", ncol=3)"
   ]
  },
  {
   "cell_type": "markdown",
   "metadata": {},
   "source": [
    "This isn't the easiest plot to interpret. The lines are overlapping, and the regressions are not exact. Anyway, we'll make this easier to read at a later point by making the plots interactive.\n",
    "\n",
    "The next step is to link the fitted functions for $M_{z,cat}$ to the roughness length $z_0$. We need to map a roughness length to terrain category, then from that to $M_{z,cat}$. \n",
    "\n",
    "Start by calculating a fit of terrain category to $M_{z,cat}$:"
   ]
  },
  {
   "cell_type": "code",
   "execution_count": 7,
   "metadata": {
    "scrolled": false
   },
   "outputs": [],
   "source": [
    "def fit_mzcat(category, a, b):\n",
    "    return a + b *np.log(category)\n",
    "\n",
    "\n",
    "def plotmzcat(height, mz_vals):\n",
    "    \n",
    "    plt.clf()\n",
    "    mzvals = mz_vals[height]\n",
    "    ax = sns.regplot(mz_cat, mzvals, fit_reg=True, logx=True)\n",
    "    \n",
    "    popt, pcov = optimize.curve_fit(fit_mzcat, mz_cat, mzvals)\n",
    "    label = r\"$M_z$ = {0:.5f} + {1:.5f} * log(T)\".format(*popt)\n",
    "    plt.plot(mz_cat, fit_mzcat(mz_cat, *popt), 'r-', label=label)\n",
    "    ax.set_ylabel(\"$M_{z,cat}$\")\n",
    "    ax.set_xlabel(\"Terrain category\")\n",
    "    ax.legend()\n",
    "    plt.show()\n",
    "    \n",
    "    \n",
    "heights = sorted(mz_val.keys())\n",
    "heightSelect = widgets.Dropdown(options=heights, value=heights[0], description=\"Height (m)\")\n",
    "\n",
    "w = interact(plotmzcat, height=heightSelect, mz_vals=fixed(mz_val)) \n",
    "display(w)"
   ]
  },
  {
   "cell_type": "markdown",
   "metadata": {},
   "source": [
    "We'll apply the previously determined function for terrain category as a function of $z_0$ to the array of terrain category values and then put that into the mix as the input `mz_cat` variable for `plotmzcat()`.\n",
    "\n",
    "Remember that $z_0$ was defined previously, along with the (helpfully-named!) `func` function. We use this to define a new array of terrain categories.\n"
   ]
  },
  {
   "cell_type": "code",
   "execution_count": 8,
   "metadata": {
    "collapsed": true
   },
   "outputs": [],
   "source": [
    "extended_z0 = np.array([10., 8., 4., 2., 1., 0.8, 0.4, 0.2, 0.08, 0.06, 0.04, 0.02, 0.008, 0.006, 0.004, 0.002])\n",
    "new_mz_cat = func(extended_z0, *zopt)"
   ]
  },
  {
   "cell_type": "markdown",
   "metadata": {},
   "source": [
    "Define a function to interpolate the new terrain category values to the $M_{z,cat}$ values for the selected height.\n"
   ]
  },
  {
   "cell_type": "code",
   "execution_count": 9,
   "metadata": {
    "collapsed": true
   },
   "outputs": [],
   "source": [
    "def interp_mzcategory(mzvals, mz_cat, height, new_mz_cat):\n",
    "    f = interpolate.interp1d(mzvals, mz_cat, )\n",
    "    return f(new_mz_cat)"
   ]
  },
  {
   "cell_type": "markdown",
   "metadata": {},
   "source": [
    "Now we create an interactive plot, where the full range of roughness lengths $z_0$ are used as the input, and the output is the terrain multiplier value $M_{z,cat}$ for the indicative height of buildings. \n",
    "\n",
    "The relationship between terrain category and $z_0$ is the same irrespective of the heights, so the only change is for different $M_{z,cat}$ values for different terrain categories.\n",
    "\n",
    "The functional form is given in the legend entry. "
   ]
  },
  {
   "cell_type": "code",
   "execution_count": 11,
   "metadata": {},
   "outputs": [],
   "source": [
    "def plotmzcat_zo(height, mz_vals):\n",
    "    \n",
    "    plt.clf()\n",
    "    mzvals = mz_vals[height]\n",
    "    popt, pcov = optimize.curve_fit(fit_mzcat, mz_cat, mzvals)\n",
    "    fix, ax = plt.subplots(1, 1)\n",
    "    label1 = r\"{0:.5f} + {1:.5f} * log($z_0$)\".format(*zopt)\n",
    "    label = r\"$M_z$ = {0:.5f} + {1:.5f} * log({2})\".format(popt[0], popt[1], label1)\n",
    "    plt.semilogx(extended_z0, fit_mzcat(new_mz_cat, *popt), 'r-', label=label)\n",
    "    ax.set_ylabel(\"$M_{z,cat}$\")\n",
    "    ax.set_xlabel(\"Roughness length ($z_0$)\")\n",
    "    ax.legend()\n",
    "    plt.show()\n",
    "    \n",
    "    \n",
    "heights = sorted(mz_val.keys())\n",
    "heightSelect = widgets.Dropdown(options=heights, value=heights[0], description=\"Height (m)\")\n",
    "\n",
    "w = interact(plotmzcat_zo, height=heightSelect, mz_vals=fixed(mz_val)) \n",
    "display(w)"
   ]
  },
  {
   "cell_type": "markdown",
   "metadata": {},
   "source": [
    "For completeness, we write the values to a formatted table so it's easier to read off the values."
   ]
  },
  {
   "cell_type": "code",
   "execution_count": 12,
   "metadata": {
    "collapsed": true
   },
   "outputs": [],
   "source": [
    "def tableprint(height, mz_vals):\n",
    "    titlestr = \"Roughness length (m) | Terrain category | Mz,cat\"\n",
    "    rowfmt = \"{0: ^21}|{1:18.5f}|{2:7.4f}\"\n",
    "    mzvals = mz_vals[height]\n",
    "    popt, pcov = optimize.curve_fit(fit_mzcat, mz_cat, mzvals)\n",
    "    mzs = fit_mzcat(new_mz_cat, *popt)\n",
    "    \n",
    "    print(titlestr)\n",
    "    for z, cat, mz in zip (extended_z0, new_mz_cat, mzs):\n",
    "        print(rowfmt.format(z, cat, mz))"
   ]
  },
  {
   "cell_type": "code",
   "execution_count": 13,
   "metadata": {},
   "outputs": [],
   "source": [
    "heights = sorted(mz_val.keys())\n",
    "heightSelector = widgets.Dropdown(options=heights, value=heights[0], description=\"Height (m)\")\n",
    "ww = interact(tableprint, height=heightSelector, mz_vals=fixed(mz_val)) \n",
    "display(ww)"
   ]
  },
  {
   "cell_type": "markdown",
   "metadata": {
    "collapsed": true
   },
   "source": [
    "## Mz,cat for ultimate state design\n",
    "\n"
   ]
  },
  {
   "cell_type": "code",
   "execution_count": 14,
   "metadata": {
    "collapsed": true
   },
   "outputs": [],
   "source": [
    "mz_val_us = {3: np.array([0.90, 0.90, 0.80, 0.80]),\n",
    "          5: np.array([0.95, 0.95, 0.80, 0.80]), \n",
    "          10: np.array([1.00, 1.00, 0.89, 0.89]), \n",
    "          15: np.array([1.07, 1.07, 0.859, 0.95]), \n",
    "          20: np.array([1.13, 1.13, 1.05, 1.05]), \n",
    "          30: np.array([1.20, 1.20, 1.15, 1.15]), \n",
    "          40: np.array([1.25, 1.25, 1.25, 1.25]), \n",
    "          50: np.array([1.29, 1.29, 1.29, 1.29]), \n",
    "          75: np.array([1.35, 1.35, 1.35, 1.36]), \n",
    "          100: np.array([1.40, 1.40, 1.40, 1.40]), \n",
    "          150: np.array([1.40, 1.40, 1.40, 1.40]), \n",
    "          200: np.array([1.40, 1.40, 1.40, 1.40])}\n",
    "\n",
    "mz_cat = np.array([1., 2., 3., 4.])"
   ]
  },
  {
   "cell_type": "code",
   "execution_count": 15,
   "metadata": {},
   "outputs": [],
   "source": [
    "w = interact(plotmzcatus, height=heightSelect, mz_vals=fixed(mz_val_us)) \n",
    "display(w)"
   ]
  },
  {
   "cell_type": "code",
   "execution_count": 35,
   "metadata": {},
   "outputs": [],
   "source": [
    "heights = sorted(mz_val_us.keys())\n",
    "heightSelect = widgets.Dropdown(options=heights, value=heights[0], description=\"Height (m)\")\n",
    "\n",
    "w = interact(plotmzcat_zo, height=heightSelect, mz_vals=fixed(mz_val_us)) \n",
    "display(w)"
   ]
  },
  {
   "cell_type": "code",
   "execution_count": 36,
   "metadata": {},
   "outputs": [],
   "source": [
    "heights = sorted(mz_val_us.keys())\n",
    "heightSelector = widgets.Dropdown(options=heights, value=heights[0], description=\"Height (m)\")\n",
    "ww = interact(tableprint, height=heightSelector, mz_vals=fixed(mz_val_us)) \n",
    "display(ww)"
   ]
  }
 ],
 "metadata": {
  "kernelspec": {
   "display_name": "Python 2",
   "language": "python",
   "name": "python2"
  },
  "language_info": {
   "codemirror_mode": {
    "name": "ipython",
    "version": 2
   },
   "file_extension": ".py",
   "mimetype": "text/x-python",
   "name": "python",
   "nbconvert_exporter": "python",
   "pygments_lexer": "ipython2",
   "version": "2.7.3"
  }
 },
 "nbformat": 4,
 "nbformat_minor": 2
}
