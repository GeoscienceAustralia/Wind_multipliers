{
 "cells": [
  {
   "cell_type": "markdown",
   "metadata": {
    "extensions": {
     "jupyter_dashboards": {
      "version": 1,
      "views": {
       "grid_default": {
        "col": 0,
        "height": 4,
        "hidden": false,
        "row": 0,
        "width": 4
       },
       "report_default": {
        "hidden": false
       }
      }
     }
    }
   },
   "source": [
    "# Imports"
   ]
  },
  {
   "cell_type": "code",
   "execution_count": null,
   "metadata": {
    "collapsed": true,
    "extensions": {
     "jupyter_dashboards": {
      "version": 1,
      "views": {
       "grid_default": {
        "hidden": true
       },
       "report_default": {
        "hidden": true
       }
      }
     }
    }
   },
   "outputs": [],
   "source": [
    "%matplotlib inline\n",
    "import pickle\n",
    "import numpy as np\n",
    "import matplotlib.pyplot as plt\n",
    "import datacube\n",
    "dc = datacube.Datacube(config='/g/data/u46/users/brl654/datacube/simoncube.conf')"
   ]
  },
  {
   "cell_type": "markdown",
   "metadata": {
    "extensions": {
     "jupyter_dashboards": {
      "version": 1,
      "views": {
       "grid_default": {
        "col": 4,
        "height": 4,
        "hidden": false,
        "row": 0,
        "width": 4
       },
       "report_default": {
        "hidden": false
       }
      }
     }
    }
   },
   "source": [
    "# Functions"
   ]
  },
  {
   "cell_type": "code",
   "execution_count": null,
   "metadata": {
    "collapsed": true,
    "extensions": {
     "jupyter_dashboards": {
      "version": 1,
      "views": {
       "grid_default": {
        "hidden": true
       },
       "report_default": {
        "hidden": true
       }
      }
     }
    }
   },
   "outputs": [],
   "source": [
    "def numpy_to_xarray(array, geobox, name=None):\n",
    "    \"\"\"Utility to convert ndarray to DataArray, using a datacube.model.GeoBox\"\"\"\n",
    "    import xarray\n",
    "    coords=[xarray.Coordinate(x, geobox.coords[x].values, attrs=dict(units=geobox.coords[x].units)) \n",
    "            for x in geobox.dims]\n",
    "    return xarray.DataArray(array, coords=coords, attrs=dict(crs=geobox.crs), name=name)\n",
    "\n",
    "def rasterfile_to_xarray(file, geobox, name=None, nodata=None, src_nodata=None):\n",
    "    \"\"\"Blit like\"\"\"\n",
    "    import rasterio\n",
    "    with rasterio.open(file) as src:\n",
    "        assert src.indexes == (1,) # assume single band\n",
    "        band = rasterio.band(src, 1) # do not attempt to read entire extent into memory\n",
    "        array = np.empty((geobox.height, geobox.width), dtype=band.dtype)\n",
    "        rasterio.warp.reproject(source=band,\n",
    "                                destination=array,\n",
    "                                dst_crs=geobox.crs.crs_str,\n",
    "                                dst_transform=geobox.affine,\n",
    "                                dst_nodata=nodata,\n",
    "                                src_nodata=src_nodata)\n",
    "    return numpy_to_xarray(array, geobox, name)"
   ]
  },
  {
   "cell_type": "markdown",
   "metadata": {
    "extensions": {
     "jupyter_dashboards": {
      "version": 1,
      "views": {
       "grid_default": {
        "col": 8,
        "height": 4,
        "hidden": false,
        "row": 0,
        "width": 4
       },
       "report_default": {
        "hidden": false
       }
      }
     }
    }
   },
   "source": [
    "# Find and inspect one layer"
   ]
  },
  {
   "cell_type": "code",
   "execution_count": null,
   "metadata": {
    "extensions": {
     "jupyter_dashboards": {
      "version": 1,
      "views": {
       "grid_default": {
        "col": 0,
        "height": 4,
        "hidden": false,
        "row": 4,
        "width": 4
       },
       "report_default": {
        "hidden": false
       }
      }
     }
    }
   },
   "outputs": [],
   "source": [
    "ds = dc.find_datasets(product='s1_gamma0_scene')[125] # grab metadata record concerning an example dataset/layer\n",
    "ds.center_time # find what time it corresponds to"
   ]
  },
  {
   "cell_type": "markdown",
   "metadata": {
    "extensions": {
     "jupyter_dashboards": {
      "version": 1,
      "views": {
       "grid_default": {
        "col": 4,
        "height": 4,
        "hidden": false,
        "row": 4,
        "width": 4
       },
       "report_default": {
        "hidden": false
       }
      }
     }
    }
   },
   "source": [
    "This part of the code reads in the data"
   ]
  },
  {
   "cell_type": "code",
   "execution_count": null,
   "metadata": {
    "extensions": {
     "jupyter_dashboards": {
      "version": 1,
      "views": {
       "grid_default": {
        "col": 8,
        "height": 10,
        "hidden": false,
        "row": 4,
        "width": 4
       },
       "report_default": {
        "hidden": false
       }
      }
     }
    }
   },
   "outputs": [],
   "source": [
    "lon = 145.5895, 146.0649\n",
    "lat = -17.53, -16.7007\n",
    "x = dc.load(product='s1_gamma0_scene', lat=lat, lon=lon, time=ds.center_time, output_crs='epsg:3577', resolution=(-25,25)) # load that one layer\n",
    "x"
   ]
  },
  {
   "cell_type": "code",
   "execution_count": null,
   "metadata": {
    "extensions": {
     "jupyter_dashboards": {
      "version": 1,
      "views": {
       "grid_default": {
        "col": 0,
        "height": 10,
        "hidden": false,
        "row": 8,
        "width": 4
       },
       "report_default": {
        "hidden": false
       }
      }
     }
    }
   },
   "outputs": [],
   "source": [
    "x.vh[:,::2,::2].plot(vmax=0.1)"
   ]
  },
  {
   "cell_type": "code",
   "execution_count": null,
   "metadata": {
    "extensions": {
     "jupyter_dashboards": {
      "version": 1,
      "views": {
       "grid_default": {
        "col": 4,
        "height": 10,
        "hidden": false,
        "row": 8,
        "width": 4
       },
       "report_default": {
        "hidden": false
       }
      }
     }
    }
   },
   "outputs": [],
   "source": [
    "(x.vh != x.vh.nodata)[:,::10,::10].plot()"
   ]
  },
  {
   "cell_type": "markdown",
   "metadata": {
    "extensions": {
     "jupyter_dashboards": {
      "version": 1,
      "views": {
       "grid_default": {
        "col": 0,
        "height": 7,
        "hidden": false,
        "row": 18,
        "width": 12
       },
       "report_default": {
        "hidden": false
       }
      }
     }
    }
   },
   "source": [
    "# (old code) Obtain all layers \n",
    "Now revised below to run faster as this code \n",
    "Expected to take 5 to 10 minutes: - \n",
    "\n",
    "z = dc.load(product='s1_gamma0_scene', lat=lat, lon=lon, output_crs='epsg:3577', resolution=(-25,25))\n",
    "\n",
    "import pickle\n",
    "with open('/g/data1/w85/sj9724/xarray.pickle', 'wb') as file:\n",
    "    pickle.dump(z, file, protocol=-1) # write xarray to disk\n",
    "\n",
    "with open('/g/data1/w85/sj9724/xarray.pickle', 'rb') as file:\n",
    "    z = pickle.load(file) # this only takes tens of seconds. (~6GB)"
   ]
  },
  {
   "cell_type": "markdown",
   "metadata": {
    "extensions": {
     "jupyter_dashboards": {
      "version": 1,
      "views": {
       "grid_default": {
        "col": 0,
        "height": 4,
        "hidden": false,
        "row": 25,
        "width": 12
       },
       "report_default": {
        "hidden": false
       }
      }
     }
    }
   },
   "source": [
    "# Reset. Clear everything in memory and start again with All Layers\n",
    "\n",
    "Note this command clears EVERYTHING, so need to reload modules"
   ]
  },
  {
   "cell_type": "markdown",
   "metadata": {
    "extensions": {
     "jupyter_dashboards": {
      "version": 1,
      "views": {
       "grid_default": {
        "col": 8,
        "height": 4,
        "hidden": false,
        "row": 14,
        "width": 4
       },
       "report_default": {
        "hidden": false
       }
      }
     }
    }
   },
   "source": [
    "# Obtain All Layers "
   ]
  },
  {
   "cell_type": "code",
   "execution_count": null,
   "metadata": {
    "collapsed": true,
    "extensions": {
     "jupyter_dashboards": {
      "version": 1,
      "views": {
       "grid_default": {
        "hidden": true
       },
       "report_default": {
        "hidden": true
       }
      }
     }
    }
   },
   "outputs": [],
   "source": [
    "%reset -f"
   ]
  },
  {
   "cell_type": "code",
   "execution_count": null,
   "metadata": {
    "collapsed": true,
    "extensions": {
     "jupyter_dashboards": {
      "version": 1,
      "views": {
       "grid_default": {
        "hidden": true
       },
       "report_default": {
        "hidden": true
       }
      }
     }
    }
   },
   "outputs": [],
   "source": [
    "#Imports - \n",
    "%matplotlib inline\n",
    "import pickle\n",
    "import numpy as np\n",
    "import matplotlib.pyplot as plt\n",
    "import datacube\n",
    "dc = datacube.Datacube(config='/g/data/u46/users/brl654/datacube/simoncube.conf')"
   ]
  },
  {
   "cell_type": "code",
   "execution_count": null,
   "metadata": {
    "collapsed": true,
    "extensions": {
     "jupyter_dashboards": {
      "version": 1,
      "views": {
       "grid_default": {
        "hidden": true
       },
       "report_default": {
        "hidden": true
       }
      }
     }
    }
   },
   "outputs": [],
   "source": [
    "#Define Functions - \n",
    "def numpy_to_xarray(array, geobox, name=None):\n",
    "    \"\"\"Utility to convert ndarray to DataArray, using a datacube.model.GeoBox\"\"\"\n",
    "    import xarray\n",
    "    coords=[xarray.Coordinate(x, geobox.coords[x].values, attrs=dict(units=geobox.coords[x].units)) \n",
    "            for x in geobox.dims]\n",
    "    return xarray.DataArray(array, coords=coords, attrs=dict(crs=geobox.crs), name=name)\n",
    "\n",
    "def rasterfile_to_xarray(file, geobox, name=None, nodata=None, src_nodata=None):\n",
    "    \"\"\"Blit like\"\"\"\n",
    "    import rasterio\n",
    "    with rasterio.open(file) as src:\n",
    "        assert src.indexes == (1,) # assume single band\n",
    "        band = rasterio.band(src, 1) # do not attempt to read entire extent into memory\n",
    "        array = np.empty((geobox.height, geobox.width), dtype=band.dtype)\n",
    "        rasterio.warp.reproject(source=band,\n",
    "                                destination=array,\n",
    "                                dst_crs=geobox.crs.crs_str,\n",
    "                                dst_transform=geobox.affine,\n",
    "                                dst_nodata=nodata,\n",
    "                                src_nodata=src_nodata)\n",
    "    return numpy_to_xarray(array, geobox, name)"
   ]
  },
  {
   "cell_type": "code",
   "execution_count": null,
   "metadata": {
    "extensions": {
     "jupyter_dashboards": {
      "version": 1,
      "views": {
       "grid_default": {
        "col": 0,
        "height": 4,
        "hidden": false,
        "row": 29,
        "width": 4
       },
       "report_default": {
        "hidden": false
       }
      }
     }
    }
   },
   "outputs": [],
   "source": [
    "ds = dc.find_datasets(product='s1_gamma0_scene')[125] # grab metadata record concerning an example dataset/layer\n",
    "ds.center_time # find what time it corresponds to"
   ]
  },
  {
   "cell_type": "code",
   "execution_count": null,
   "metadata": {
    "extensions": {
     "jupyter_dashboards": {
      "version": 1,
      "views": {
       "grid_default": {
        "col": 4,
        "height": 10,
        "hidden": false,
        "row": 29,
        "width": 4
       },
       "report_default": {
        "hidden": false
       }
      }
     }
    }
   },
   "outputs": [],
   "source": [
    "lon = 145.5895, 146.0649\n",
    "lat = -17.53, -16.7007\n",
    "x = dc.load(product='s1_gamma0_scene', lat=lat, lon=lon, time=ds.center_time, output_crs='epsg:3577', resolution=(-25,25)) # load that one layer\n",
    "x"
   ]
  },
  {
   "cell_type": "markdown",
   "metadata": {
    "extensions": {
     "jupyter_dashboards": {
      "version": 1,
      "views": {
       "grid_default": {
        "col": 8,
        "height": 4,
        "hidden": false,
        "row": 29,
        "width": 4
       },
       "report_default": {
        "hidden": false
       }
      }
     }
    }
   },
   "source": [
    "# (new code) .... Revised section - Obtain all Layers"
   ]
  },
  {
   "cell_type": "code",
   "execution_count": null,
   "metadata": {
    "collapsed": true,
    "extensions": {
     "jupyter_dashboards": {
      "version": 1,
      "views": {
       "grid_default": {
        "hidden": true
       },
       "report_default": {
        "hidden": true
       }
      }
     }
    }
   },
   "outputs": [],
   "source": [
    "#cache = '/g/data/u46/users/brl654/radar/larry_gradproj/xarray.pickle.2'\n",
    "#cache = '/g/data1/w85/sj9724/xarray.pickle'\n",
    "cache = '/g/data/u46/users/sj9724/xarray.pickle.2'\n",
    "try:\n",
    "    with open(cache, 'rb') as file:\n",
    "        z = pickle.load(file) # this only takes tens of seconds. (6GB)\n",
    "except:\n",
    "    # this may be 5 to 10 mintues (seeking through half a terabyte)\n",
    "    z = dc.load(product='s1_gamma0_scene', lat=lat, lon=lon, output_crs='epsg:3577', resolution=(-25,25))\n",
    "    with open(cache, 'wb') as file:\n",
    "        pickle.dump(z, file, protocol=-1) # save result to disk"
   ]
  },
  {
   "cell_type": "markdown",
   "metadata": {
    "extensions": {
     "jupyter_dashboards": {
      "version": 1,
      "views": {
       "grid_default": {
        "col": 0,
        "height": 4,
        "hidden": false,
        "row": 33,
        "width": 4
       },
       "report_default": {
        "hidden": false
       }
      }
     }
    }
   },
   "source": [
    "# Count observations\n",
    "Patterns in the observation count often explain flaws in downstream products."
   ]
  },
  {
   "cell_type": "code",
   "execution_count": null,
   "metadata": {
    "extensions": {
     "jupyter_dashboards": {
      "version": 1,
      "views": {
       "grid_default": {
        "col": 8,
        "height": 10,
        "hidden": false,
        "row": 33,
        "width": 4
       },
       "report_default": {
        "hidden": false
       }
      }
     }
    }
   },
   "outputs": [],
   "source": [
    "\n",
    "counts = (z.vh!=z.vh.nodata).sum(dim='time')\n",
    "counts[::4,::4].plot(cmap='inferno')"
   ]
  },
  {
   "cell_type": "markdown",
   "metadata": {
    "extensions": {
     "jupyter_dashboards": {
      "version": 1,
      "views": {
       "grid_default": {
        "col": 0,
        "height": 4,
        "hidden": false,
        "row": 37,
        "width": 4
       },
       "report_default": {
        "hidden": false
       }
      }
     }
    }
   },
   "source": [
    "# Average signal\n",
    "A naive mean will fail to account for different numbers of observations in different areas."
   ]
  },
  {
   "cell_type": "code",
   "execution_count": null,
   "metadata": {
    "extensions": {
     "jupyter_dashboards": {
      "version": 1,
      "views": {
       "grid_default": {
        "col": 4,
        "height": 10,
        "hidden": false,
        "row": 39,
        "width": 4
       },
       "report_default": {
        "hidden": false
       }
      }
     }
    }
   },
   "outputs": [],
   "source": [
    "z.vh[:,::4,::4].mean(dim='time').plot(vmax=0.1)"
   ]
  },
  {
   "cell_type": "markdown",
   "metadata": {
    "extensions": {
     "jupyter_dashboards": {
      "version": 1,
      "views": {
       "grid_default": {
        "col": 0,
        "height": 4,
        "hidden": false,
        "row": 41,
        "width": 4
       },
       "report_default": {
        "hidden": false
       }
      }
     }
    }
   },
   "source": [
    "This bit tells me what the 'no data' value is for this dataset"
   ]
  },
  {
   "cell_type": "code",
   "execution_count": null,
   "metadata": {
    "collapsed": true,
    "extensions": {
     "jupyter_dashboards": {
      "version": 1,
      "views": {
       "grid_default": {
        "hidden": true
       },
       "report_default": {
        "hidden": true
       }
      }
     }
    }
   },
   "outputs": [],
   "source": [
    "#x.vh.nodata"
   ]
  },
  {
   "cell_type": "code",
   "execution_count": null,
   "metadata": {
    "extensions": {
     "jupyter_dashboards": {
      "version": 1,
      "views": {
       "grid_default": {
        "col": 8,
        "height": 10,
        "hidden": false,
        "row": 43,
        "width": 4
       },
       "report_default": {
        "hidden": false
       }
      }
     }
    }
   },
   "outputs": [],
   "source": [
    "average = (z.vh[:,::4,::4].sum(dim='time') / counts)\n",
    "average.plot(vmax=0.1)"
   ]
  },
  {
   "cell_type": "markdown",
   "metadata": {
    "extensions": {
     "jupyter_dashboards": {
      "version": 1,
      "views": {
       "grid_default": {
        "col": 0,
        "height": 4,
        "hidden": false,
        "row": 45,
        "width": 4
       },
       "report_default": {
        "hidden": false
       }
      }
     }
    }
   },
   "source": [
    "# Problem 1 - Steps - Identification - Solution"
   ]
  },
  {
   "cell_type": "markdown",
   "metadata": {
    "extensions": {
     "jupyter_dashboards": {
      "version": 1,
      "views": {
       "grid_default": {
        "col": 0,
        "height": 13,
        "hidden": false,
        "row": 53,
        "width": 12
       },
       "report_default": {
        "hidden": false
       }
      }
     }
    }
   },
   "source": [
    "The above image has a strip of \"problem\" data. \n",
    "The following steps were taken to identify the problem -\n",
    "\n",
    "average[700:800,100:200].plot(vmax=0.1) # Zooming in on a section of the problem area\n",
    "\n",
    "counts[::4,::4][700:800,100:200].plot() #Looking for all x all y every 4th step\n",
    "\n",
    "Next -\n",
    "\n",
    "Looking at the times where nodata - identify layers to zoom into - \n",
    "\n",
    "(z.vh!=z.vh.nodata)[:,::4,::4][:,700:800,100:200].sum(dim=['x','y']).plot(marker='o') \n",
    "\n",
    "Following 3 steps - analysis and comparison of images to identify 'problem' time steps 1a. Look at last 10 time layers - 5 columns then wrap to next 5 - identify images that show 'bleeding' between areas of data/nodata 1b.Displaying the 'bleeding' time images 2.\n",
    "\n",
    "(z.vh!=z.vh.nodata)[:,::4,::4][-10:,700:800,100:200].plot(col='time', col_wrap=5) #1a.\n",
    "\n",
    "(z.vh!=z.vh.nodata)[:,::4,::4][-10:,700:800,100:200].time #1b.show the time of the 'bleeding' images\n",
    "\n",
    "(z.vh)[:,::4,::4][-10:,700:800,100:200].plot(col='time', col_wrap=5, vmax=0.1)"
   ]
  },
  {
   "cell_type": "markdown",
   "metadata": {
    "extensions": {
     "jupyter_dashboards": {
      "version": 1,
      "views": {
       "grid_default": {
        "col": 0,
        "height": 6,
        "hidden": false,
        "row": 66,
        "width": 12
       },
       "report_default": {
        "hidden": false
       }
      }
     }
    }
   },
   "source": [
    "# Problem 1 - Identified - \n",
    "areas where the data is very close to zero but not quite zero\n",
    "\n",
    "problem = z.sel(time='2017-04-10T19:44:05.949922000').vh[::4,::4].copy()\n",
    "problem.data[problem.data==0] = np.nan\n",
    "problem.plot(vmax=0.00001)\n",
    "(problem < 0.0001).plot() # problem identified - areas where the data is very close to zero but not quite"
   ]
  },
  {
   "cell_type": "markdown",
   "metadata": {
    "extensions": {
     "jupyter_dashboards": {
      "version": 1,
      "views": {
       "grid_default": {
        "col": 0,
        "height": 4,
        "hidden": false,
        "row": 72,
        "width": 12
       },
       "report_default": {
        "hidden": false
       }
      }
     }
    }
   },
   "source": [
    "# Problem 1 - Solution -\n",
    "We now run the same script that produced the 'problem' image but define where there is data >0.001.  Voilà! Clean image"
   ]
  },
  {
   "cell_type": "code",
   "execution_count": null,
   "metadata": {
    "extensions": {
     "jupyter_dashboards": {
      "version": 1,
      "views": {
       "grid_default": {
        "col": 0,
        "height": 10,
        "hidden": false,
        "row": 76,
        "width": 4
       },
       "report_default": {
        "hidden": false
       }
      }
     }
    }
   },
   "outputs": [],
   "source": [
    "new_counts = (z.vh>0.001).sum(dim='time')\n",
    "new_average = (z.vh.sum(dim='time') / new_counts)\n",
    "new_average.plot(vmax=0.1)"
   ]
  },
  {
   "cell_type": "code",
   "execution_count": null,
   "metadata": {
    "collapsed": true,
    "extensions": {
     "jupyter_dashboards": {
      "version": 1,
      "views": {
       "grid_default": {
        "hidden": true
       },
       "report_default": {
        "hidden": true
       }
      }
     }
    }
   },
   "outputs": [],
   "source": [
    "# write out the pickled file\n",
    "with open('/g/data/u46/users/sj9724/average_radar', 'wb') as file:\n",
    "    radar = pickle.dump(new_average, file)"
   ]
  },
  {
   "cell_type": "markdown",
   "metadata": {
    "collapsed": true,
    "extensions": {
     "jupyter_dashboards": {
      "version": 1,
      "views": {
       "grid_default": {
        "col": 0,
        "height": 4,
        "hidden": false,
        "row": 86,
        "width": 12
       },
       "report_default": {
        "hidden": false
       }
      }
     }
    }
   },
   "source": [
    "# Clear everything in memory and start over with the created files\n",
    "Note this command clears EVERYTHING, so need to reload modules"
   ]
  },
  {
   "cell_type": "code",
   "execution_count": null,
   "metadata": {
    "collapsed": true,
    "extensions": {
     "jupyter_dashboards": {
      "version": 1,
      "views": {
       "grid_default": {
        "hidden": true
       },
       "report_default": {
        "hidden": true
       }
      }
     }
    }
   },
   "outputs": [],
   "source": [
    "%reset -f"
   ]
  },
  {
   "cell_type": "code",
   "execution_count": null,
   "metadata": {
    "collapsed": true,
    "extensions": {
     "jupyter_dashboards": {
      "version": 1,
      "views": {
       "grid_default": {
        "hidden": true
       },
       "report_default": {
        "hidden": true
       }
      }
     }
    }
   },
   "outputs": [],
   "source": [
    "#Imports - \n",
    "%matplotlib inline\n",
    "import pickle\n",
    "import numpy as np\n",
    "import matplotlib.pyplot as plt\n",
    "import datacube\n",
    "import pandas as pd\n",
    "dc = datacube.Datacube(config='/g/data/u46/users/brl654/datacube/simoncube.conf')\n",
    "import seaborn as sns"
   ]
  },
  {
   "cell_type": "code",
   "execution_count": null,
   "metadata": {
    "collapsed": true,
    "extensions": {
     "jupyter_dashboards": {
      "version": 1,
      "views": {
       "grid_default": {
        "hidden": true
       },
       "report_default": {
        "hidden": true
       }
      }
     }
    }
   },
   "outputs": [],
   "source": [
    "#Define Functions - \n",
    "def numpy_to_xarray(array, geobox, name=None):\n",
    "    \"\"\"Utility to convert ndarray to DataArray, using a datacube.model.GeoBox\"\"\"\n",
    "    import xarray\n",
    "    coords=[xarray.Coordinate(x, geobox.coords[x].values, attrs=dict(units=geobox.coords[x].units)) \n",
    "            for x in geobox.dims]\n",
    "    return xarray.DataArray(array, coords=coords, attrs=dict(crs=geobox.crs), name=name)\n",
    "\n",
    "def rasterfile_to_xarray(file, geobox, name=None, nodata=None, src_nodata=None):\n",
    "    \"\"\"Blit like\"\"\"\n",
    "    import rasterio\n",
    "    with rasterio.open(file) as src:\n",
    "        assert src.indexes == (1,) # assume single band\n",
    "        band = rasterio.band(src, 1) # do not attempt to read entire extent into memory\n",
    "        array = np.empty((geobox.height, geobox.width), dtype=band.dtype)\n",
    "        rasterio.warp.reproject(source=band,\n",
    "                                destination=array,\n",
    "                                dst_crs=geobox.crs.crs_str,\n",
    "                                dst_transform=geobox.affine,\n",
    "                                dst_nodata=nodata,\n",
    "                                src_nodata=src_nodata)\n",
    "    return numpy_to_xarray(array, geobox, name)"
   ]
  },
  {
   "cell_type": "code",
   "execution_count": null,
   "metadata": {
    "collapsed": true,
    "extensions": {
     "jupyter_dashboards": {
      "version": 1,
      "views": {
       "grid_default": {
        "hidden": true
       },
       "report_default": {
        "hidden": true
       }
      }
     }
    }
   },
   "outputs": [],
   "source": [
    "#Bring in the averaged radar file to start analysis\n",
    "import pickle\n",
    "with open('/g/data/u46/users/sj9724/average_radar', 'rb') as file:\n",
    "    radar = pickle.load(file) \n"
   ]
  },
  {
   "cell_type": "code",
   "execution_count": null,
   "metadata": {
    "extensions": {
     "jupyter_dashboards": {
      "version": 1,
      "views": {
       "grid_default": {
        "hidden": true
       },
       "report_default": {
        "hidden": true
       }
      }
     }
    }
   },
   "outputs": [],
   "source": [
    "ds = dc.find_datasets(product='s1_gamma0_scene')[125] # grab metadata record concerning an example dataset/layer\n",
    "ds.center_time # find what time it corresponds to\n",
    "lon = 145.5895, 146.0649\n",
    "lat = -17.53, -16.7007\n",
    "x = dc.load(product='s1_gamma0_scene', lat=lat, lon=lon, time=ds.center_time, output_crs='epsg:3577', resolution=(-25,25)) # load that one layer\n",
    "mz = rasterfile_to_xarray('/g/data/u46/users/sj9724/Landsat_mz_terrain_Larry/mz_orig.img', x.geobox, nodata=np.nan, src_nodata=-999.5)\n",
    "cats = rasterfile_to_xarray('/g/data/u46/users/sj9724/Landsat_mz_terrain_Larry/terrain.img', x.geobox)"
   ]
  },
  {
   "cell_type": "code",
   "execution_count": null,
   "metadata": {
    "extensions": {
     "jupyter_dashboards": {
      "version": 1,
      "views": {
       "grid_default": {
        "col": 0,
        "height": 12,
        "hidden": false,
        "row": 90,
        "width": 4
       },
       "report_default": {
        "hidden": false
       }
      }
     }
    }
   },
   "outputs": [],
   "source": [
    "radar"
   ]
  },
  {
   "cell_type": "code",
   "execution_count": null,
   "metadata": {
    "extensions": {
     "jupyter_dashboards": {
      "version": 1,
      "views": {
       "grid_default": {
        "col": 4,
        "height": 10,
        "hidden": false,
        "row": 76,
        "width": 4
       },
       "report_default": {
        "hidden": false
       }
      }
     }
    }
   },
   "outputs": [],
   "source": [
    "radar.plot(vmax=0.1)"
   ]
  },
  {
   "cell_type": "code",
   "execution_count": null,
   "metadata": {
    "extensions": {
     "jupyter_dashboards": {
      "version": 1,
      "views": {
       "grid_default": {
        "col": 4,
        "height": 13,
        "hidden": false,
        "row": 90,
        "width": 4
       },
       "report_default": {
        "hidden": false
       }
      }
     }
    }
   },
   "outputs": [],
   "source": [
    "mz"
   ]
  },
  {
   "cell_type": "code",
   "execution_count": null,
   "metadata": {
    "extensions": {
     "jupyter_dashboards": {
      "version": 1,
      "views": {
       "grid_default": {
        "col": 8,
        "height": 10,
        "hidden": false,
        "row": 76,
        "width": 4
       },
       "report_default": {
        "hidden": false
       }
      }
     }
    }
   },
   "outputs": [],
   "source": [
    "mz.plot()"
   ]
  },
  {
   "cell_type": "markdown",
   "metadata": {
    "extensions": {
     "jupyter_dashboards": {
      "version": 1,
      "views": {
       "grid_default": {
        "col": 0,
        "height": 4,
        "hidden": false,
        "row": 49,
        "width": 4
       },
       "report_default": {
        "hidden": false
       }
      }
     }
    }
   },
   "source": [
    "# Now we want to plot a scatter of radar vs Mz data"
   ]
  },
  {
   "cell_type": "code",
   "execution_count": null,
   "metadata": {
    "extensions": {
     "jupyter_dashboards": {
      "version": 1,
      "views": {
       "grid_default": {
        "col": 8,
        "height": 18,
        "hidden": false,
        "row": 90,
        "width": 4
       },
       "report_default": {
        "hidden": false
       }
      }
     }
    }
   },
   "outputs": [],
   "source": [
    "# Need to get the radar and cats data into a single list by 'flattening' the data using- \n",
    "flatcats = cats.stack(i = ('x','y'))\n",
    "flatmz = mz.stack(i = ('x','y'))\n",
    "flatradar = radar.stack(i = ('x','y'))\n",
    "# Check that they are still looking good\n",
    "print(flatcats)\n",
    "print(flatmz) \n",
    "print(flatradar)"
   ]
  },
  {
   "cell_type": "code",
   "execution_count": null,
   "metadata": {
    "extensions": {
     "jupyter_dashboards": {
      "version": 1,
      "views": {
       "grid_default": {
        "col": 0,
        "height": 9,
        "hidden": false,
        "row": 102,
        "width": 4
       },
       "report_default": {
        "hidden": false
       }
      }
     }
    }
   },
   "outputs": [],
   "source": [
    "#If they are looking good, we can now do our scatter plot\n",
    "fig, ax = plt.subplots()\n",
    "ax.scatter(flatradar[::100], flatmz[::100] , alpha = 0.01)\n",
    "\n",
    "\n",
    "# We want to limit the xaxis scale to 0-0.10 - xlimit?\n",
    "ax.set_xlim([0, 0.10])\n",
    "ax.set_ylim([0.8,1.01])\n",
    "\n",
    "#Add axes labels (radar and Mzcat)(label categ.)\n",
    "ax.set_xlabel('Radar [VH]')\n",
    "ax.set_ylabel('Mz,Cat')\n",
    "ax.set_title('Radar Vs Mz Data: TC Larry')\n",
    "plt.show()"
   ]
  },
  {
   "cell_type": "code",
   "execution_count": null,
   "metadata": {
    "extensions": {
     "jupyter_dashboards": {
      "version": 1,
      "views": {
       "grid_default": {
        "col": 4,
        "height": 9,
        "hidden": false,
        "row": 103,
        "width": 4
       },
       "report_default": {
        "hidden": false
       }
      }
     }
    },
    "scrolled": true
   },
   "outputs": [],
   "source": [
    "plt.scatter(flatcats.data[::10], flatmz.data[::10])\n",
    "plt.xlabel('category')\n",
    "plt.ylabel('mz value')\n",
    "plt.show()"
   ]
  },
  {
   "cell_type": "markdown",
   "metadata": {
    "extensions": {
     "jupyter_dashboards": {
      "version": 1,
      "views": {
       "grid_default": {
        "col": 4,
        "height": 4,
        "hidden": false,
        "row": 49,
        "width": 4
       },
       "report_default": {
        "hidden": false
       }
      }
     }
    }
   },
   "source": [
    "# Produce histograms of flat data to interrogate results of scatter plot"
   ]
  },
  {
   "cell_type": "code",
   "execution_count": null,
   "metadata": {
    "extensions": {
     "jupyter_dashboards": {
      "version": 1,
      "views": {
       "grid_default": {
        "col": 8,
        "height": 8,
        "hidden": false,
        "row": 108,
        "width": 4
       },
       "report_default": {
        "hidden": false
       }
      }
     }
    }
   },
   "outputs": [],
   "source": [
    "plt.hist(flatcats, 10) # plot flattened categories - flatcat\n",
    "plt.show()"
   ]
  },
  {
   "cell_type": "code",
   "execution_count": null,
   "metadata": {
    "extensions": {
     "jupyter_dashboards": {
      "version": 1,
      "views": {
       "grid_default": {
        "col": 0,
        "height": 12,
        "hidden": false,
        "row": 111,
        "width": 4
       },
       "report_default": {
        "hidden": false
       }
      }
     }
    },
    "scrolled": false
   },
   "outputs": [],
   "source": [
    "def nanfree(x):\n",
    "    return x[~np.isnan(x)]\n",
    "def clean(x):\n",
    "    return x[np.isfinite(x)]\n",
    "\n",
    "\n",
    "#plt.hist(subset, bins=np.linspace(0,0.25,100))\n",
    "#plt.show()\n",
    "\n",
    "fig, axes = plt.subplots(nrows=11, ncols=1, figsize=(8,16), sharex=True)\n",
    "axes = axes.ravel()\n",
    "\n",
    "for i, ax in zip(range(11), axes):\n",
    "    subset = clean(flatradar.data[flatcats.data == i])\n",
    "    medi = np.median(subset)\n",
    "    mz_i = np.unique(clean(flatmz.data[flatcats.data == i])) # find corresponding mz value\n",
    "    #print(mz_i)\n",
    "    assert len(mz_i) == 1\n",
    "    mz_i = mz_i[0]\n",
    "    \n",
    "    ax.hist(subset, bins=np.linspace(0,0.25,100))\n",
    "    ax.axvline(medi, color='r')\n",
    "    ax.set_title(str(i) + ' ' + str(mz_i) + ' (n=' + str(len(subset)) + ')')\n",
    "\n",
    "\n",
    "fig.subplots_adjust(hspace=1)\n",
    "plt.show()"
   ]
  },
  {
   "cell_type": "code",
   "execution_count": null,
   "metadata": {
    "extensions": {
     "jupyter_dashboards": {
      "version": 1,
      "views": {
       "grid_default": {
        "col": 4,
        "height": 4,
        "hidden": false,
        "row": 112,
        "width": 4
       },
       "report_default": {
        "hidden": false
       }
      }
     }
    }
   },
   "outputs": [],
   "source": [
    "#Remove NaN's and inf from data before plotting histogram of flatmz\n",
    "#1. Id NaN's\n",
    "\n",
    "def nanfree(mz):\n",
    "    return x[~np.isnan(mz)]\n",
    "def clean(mz):\n",
    "    return x[np.isfinite(mz)]\n",
    "#mznan = flatmz.dropna(dim = '?')\n",
    "#nanlist = np.argwhere(pd.isnull(mznan))\n",
    "#nanlist\n",
    "# Identify NaN's in flat mz\n",
    "mznan = flatmz.dropna(dim = 'i')\n",
    "nanlist = np.argwhere(pd.isnull(mznan))\n",
    "nanlist"
   ]
  },
  {
   "cell_type": "code",
   "execution_count": null,
   "metadata": {
    "collapsed": true,
    "extensions": {
     "jupyter_dashboards": {
      "version": 1,
      "views": {
       "grid_default": {
        "hidden": true
       },
       "report_default": {
        "hidden": true
       }
      }
     }
    }
   },
   "outputs": [],
   "source": [
    "#Remove infinites (inf) from data\n",
    "mznan.loc[~np.isfinite(mznan)] = np.nan\n",
    "mznan = mznan.dropna(dim = 'i')"
   ]
  },
  {
   "cell_type": "code",
   "execution_count": null,
   "metadata": {
    "extensions": {
     "jupyter_dashboards": {
      "version": 1,
      "views": {
       "grid_default": {
        "col": 4,
        "height": 8,
        "hidden": false,
        "row": 116,
        "width": 4
       },
       "report_default": {
        "hidden": false
       }
      }
     }
    }
   },
   "outputs": [],
   "source": [
    "plt.hist(mznan, 10) # plot flattened Mz,cat - flatmz\n",
    "plt.show()"
   ]
  },
  {
   "cell_type": "code",
   "execution_count": null,
   "metadata": {
    "extensions": {
     "jupyter_dashboards": {
      "version": 1,
      "views": {
       "grid_default": {
        "col": 8,
        "height": 4,
        "hidden": false,
        "row": 116,
        "width": 4
       },
       "report_default": {
        "hidden": false
       }
      }
     }
    }
   },
   "outputs": [],
   "source": [
    "# Identify NaN's in flat radar\n",
    "radarnan = flatradar.dropna(dim = 'i')\n",
    "nanlist = np.argwhere(pd.isnull(radarnan))\n",
    "nanlist"
   ]
  },
  {
   "cell_type": "code",
   "execution_count": null,
   "metadata": {
    "collapsed": true,
    "extensions": {
     "jupyter_dashboards": {
      "version": 1,
      "views": {
       "grid_default": {
        "hidden": true
       },
       "report_default": {
        "hidden": true
       }
      }
     }
    }
   },
   "outputs": [],
   "source": [
    "#Remove infinites (inf) from data\n",
    "radarnan.loc[~np.isfinite(radarnan)] = np.nan\n",
    "radarnan = radarnan.dropna(dim = 'i')"
   ]
  },
  {
   "cell_type": "code",
   "execution_count": null,
   "metadata": {
    "collapsed": true,
    "extensions": {
     "jupyter_dashboards": {
      "version": 1,
      "views": {
       "grid_default": {
        "col": 8,
        "height": 9,
        "hidden": false,
        "row": 120,
        "width": 4
       },
       "report_default": {
        "hidden": false
       }
      }
     }
    },
    "scrolled": true
   },
   "outputs": [],
   "source": [
    "plt.hist(radarnan, bins=np.linspace(0,1,100)) # A histogram of our flat radar data after NaNs are removed.\n",
    "plt.xlabel('radar')\n",
    "plt.ylabel('count')\n",
    "plt.show()"
   ]
  },
  {
   "cell_type": "code",
   "execution_count": null,
   "metadata": {
    "extensions": {
     "jupyter_dashboards": {
      "version": 1,
      "views": {
       "grid_default": {
        "col": 0,
        "height": 10,
        "hidden": false,
        "row": 123,
        "width": 4
       },
       "report_default": {
        "hidden": false
       }
      }
     }
    },
    "scrolled": true
   },
   "outputs": [],
   "source": [
    "sns.distplot(radarnan, hist=False)"
   ]
  },
  {
   "cell_type": "markdown",
   "metadata": {
    "extensions": {
     "jupyter_dashboards": {
      "version": 1,
      "views": {
       "grid_default": {
        "hidden": true
       },
       "report_default": {
        "hidden": true
       }
      }
     }
    }
   },
   "source": [
    "# Count observations\n",
    "Patterns in the observation count often explain flaws in downstream products."
   ]
  },
  {
   "cell_type": "code",
   "execution_count": null,
   "metadata": {
    "collapsed": true,
    "extensions": {
     "jupyter_dashboards": {
      "version": 1,
      "views": {
       "grid_default": {
        "hidden": true
       },
       "report_default": {
        "hidden": true
       }
      }
     }
    },
    "scrolled": true
   },
   "outputs": [],
   "source": [
    "cache = '/g/data/u46/users/sj9724/xarray.pickle'\n",
    "lon = 145.5895, 146.0649\n",
    "lat = -17.53, -16.7007 # call for partial Larry area\n",
    "try:\n",
    "    with open(cache, 'rb') as file:\n",
    "        z = pickle.load(file) # this only takes tens of seconds. (6GB)\n",
    "except:\n",
    "    # this may be 5 to 10 mintues (seeking through half a terabyte)\n",
    "    z = dc.load(product='s1_gamma0_scene', lat=lat, lon=lon, output_crs='epsg:3577', resolution=(-25,25))\n",
    "    with open(cache, 'wb') as file:\n",
    "        pickle.dump(z, file, protocol=-1) # save result to disk"
   ]
  },
  {
   "cell_type": "code",
   "execution_count": null,
   "metadata": {
    "extensions": {
     "jupyter_dashboards": {
      "version": 1,
      "views": {
       "grid_default": {
        "hidden": true
       },
       "report_default": {
        "hidden": true
       }
      }
     }
    }
   },
   "outputs": [],
   "source": [
    "z.keys()"
   ]
  },
  {
   "cell_type": "code",
   "execution_count": null,
   "metadata": {
    "extensions": {
     "jupyter_dashboards": {
      "version": 1,
      "views": {
       "grid_default": {
        "hidden": true
       },
       "report_default": {
        "hidden": true
       }
      }
     }
    }
   },
   "outputs": [],
   "source": [
    "counts = (z.vh!=z.vh.nodata).sum(dim='time')\n",
    "counts[::4,::4].plot(cmap='inferno')"
   ]
  },
  {
   "cell_type": "code",
   "execution_count": null,
   "metadata": {
    "extensions": {
     "jupyter_dashboards": {
      "version": 1,
      "views": {
       "grid_default": {
        "col": 4,
        "height": 58,
        "hidden": false,
        "row": 124,
        "width": 4
       },
       "report_default": {
        "hidden": false
       }
      }
     }
    }
   },
   "outputs": [],
   "source": [
    "z.time"
   ]
  },
  {
   "cell_type": "code",
   "execution_count": null,
   "metadata": {
    "extensions": {
     "jupyter_dashboards": {
      "version": 1,
      "views": {
       "grid_default": {
        "col": 8,
        "height": 15,
        "hidden": false,
        "row": 129,
        "width": 4
       },
       "report_default": {
        "hidden": false
       }
      }
     }
    }
   },
   "outputs": [],
   "source": [
    "#time_slice = slice(None,'2016-11-12T19:36:30.178718000')\n",
    "time_slice = slice('2017-02-28','2017-03-31')\n",
    "z_subset = z.sel(time=time_slice)\n",
    "print(z_subset.time.values)\n",
    "(z_subset.vh!=z_subset.vh.nodata).sum(dim='time')[::4,::4].plot(cmap='inferno')"
   ]
  },
  {
   "cell_type": "code",
   "execution_count": null,
   "metadata": {
    "extensions": {
     "jupyter_dashboards": {
      "version": 1,
      "views": {
       "grid_default": {
        "hidden": true
       },
       "report_default": {
        "hidden": true
       }
      }
     }
    }
   },
   "outputs": [],
   "source": [
    "# Need to get the radar and cats data into a single list by 'flattening' the data using- \n",
    "flatcats = cats.stack(i = ('x','y'))\n",
    "flatmz = mz.stack(i = ('x','y'))\n",
    "flatradar = radar.stack(i = ('x','y'))\n",
    "# Check that they are still looking good\n",
    "print(flatcats)\n",
    "print(flatmz) \n",
    "print(flatradar)"
   ]
  },
  {
   "cell_type": "code",
   "execution_count": null,
   "metadata": {
    "extensions": {
     "jupyter_dashboards": {
      "version": 1,
      "views": {
       "grid_default": {
        "col": 0,
        "height": 7,
        "hidden": false,
        "row": 133,
        "width": 4
       },
       "report_default": {
        "hidden": false
       }
      }
     }
    }
   },
   "outputs": [],
   "source": [
    "good_subset = np.isfinite(radar) & np.isfinite(mz)\n",
    "good_radar = radar.data[good_subset]\n",
    "good_mz = mz.data[good_subset]\n",
    "#good_both = np.vstack([good_radar, good_mz])\n",
    "df = pd.DataFrame(data=dict(radar_column=good_radar, mz_column=good_mz))\n",
    "mapping = {1063:'bare', 1000:'water', 949:'grassy', 898:'woodland', 806:'urban', 774:'forest'}\n",
    "df['mz_label'] = df.mz_column.map(mapping)\n",
    "df.head() # only show a few rows"
   ]
  },
  {
   "cell_type": "code",
   "execution_count": null,
   "metadata": {
    "extensions": {
     "jupyter_dashboards": {
      "version": 1,
      "views": {
       "grid_default": {
        "hidden": true
       },
       "report_default": {
        "hidden": true
       }
      }
     }
    }
   },
   "outputs": [],
   "source": [
    "smaller = df.iloc[::10]\n",
    "#len(smaller)\n",
    "ax = sns.violinplot(data=smaller, x='radar_column', y='mz_label', scale=\"area\")#, cut=0)#, bw=20)\n",
    "#ax.set_xlim([0,0.1])"
   ]
  },
  {
   "cell_type": "code",
   "execution_count": null,
   "metadata": {
    "collapsed": true,
    "extensions": {
     "jupyter_dashboards": {
      "version": 1,
      "views": {
       "grid_default": {
        "hidden": true
       },
       "report_default": {
        "hidden": true
       }
      }
     }
    }
   },
   "outputs": [],
   "source": []
  },
  {
   "cell_type": "code",
   "execution_count": null,
   "metadata": {
    "collapsed": true,
    "extensions": {
     "jupyter_dashboards": {
      "version": 1,
      "views": {
       "grid_default": {
        "hidden": true
       },
       "report_default": {
        "hidden": true
       }
      }
     }
    }
   },
   "outputs": [],
   "source": []
  }
 ],
 "metadata": {
  "extensions": {
   "jupyter_dashboards": {
    "activeView": "report_default",
    "version": 1,
    "views": {
     "grid_default": {
      "cellMargin": 10,
      "defaultCellHeight": 20,
      "maxColumns": 12,
      "name": "grid",
      "type": "grid"
     },
     "report_default": {
      "name": "report",
      "type": "report"
     }
    }
   }
  },
  "kernelspec": {
   "display_name": "Python 3",
   "language": "python",
   "name": "python3"
  },
  "language_info": {
   "codemirror_mode": {
    "name": "ipython",
    "version": 3
   },
   "file_extension": ".py",
   "mimetype": "text/x-python",
   "name": "python",
   "nbconvert_exporter": "python",
   "pygments_lexer": "ipython3",
   "version": "3.6.2"
  }
 },
 "nbformat": 4,
 "nbformat_minor": 2
}
